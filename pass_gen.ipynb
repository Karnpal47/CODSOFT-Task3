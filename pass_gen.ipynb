{
 "cells": [
  {
   "cell_type": "code",
   "execution_count": 1,
   "metadata": {},
   "outputs": [
    {
     "name": "stdout",
     "output_type": "stream",
     "text": [
      "Welcome to the password generator...\n",
      "Your password is generated successfully....\n",
      "nOHPK+@28\n"
     ]
    }
   ],
   "source": [
    "import random\n",
    "letters=['a','b','c','d','e','f','g','h','i','j','k','l','m','n','o','p','q','r','s','t','u','v','w','x','y','z',\n",
    "         'A','B','C','D','E','F','G','H','I','J','K','L','M','N','O','P','Q','R','S','T','U','V','W','X','Y','Z']\n",
    "numbers=['0','1','2','3','4','5','6','7','8','9']\n",
    "symbols=['!','@','#','$','%','^','&','*','+','>','?']\n",
    "\n",
    "print(\"Welcome to the password generator...\")\n",
    "\n",
    "no_letters=int(input(\"How many letters would you like in password?\\n\"))\n",
    "no_symbols=int(input(\"How many symbols would you like in password?\\n\"))\n",
    "no_numbers=int(input(\"How many numbers would you like in password?\\n\"))\n",
    "\n",
    "password=\"\"\n",
    "for i in range(1,no_letters+1):\n",
    "    char=random.choice(letters)\n",
    "    password+=char\n",
    "\n",
    "for i in range(1,no_symbols+1):\n",
    "    char=random.choice(symbols)\n",
    "    password+=char\n",
    "\n",
    "for i in range(1,no_numbers+1):\n",
    "    char=random.choice(numbers)\n",
    "    password+=char\n",
    "\n",
    "print(\"Your password is generated successfully....\")\n",
    "print(password)\n",
    "\n",
    "\n"
   ]
  },
  {
   "cell_type": "code",
   "execution_count": null,
   "metadata": {},
   "outputs": [],
   "source": []
  }
 ],
 "metadata": {
  "kernelspec": {
   "display_name": "Python 3",
   "language": "python",
   "name": "python3"
  },
  "language_info": {
   "codemirror_mode": {
    "name": "ipython",
    "version": 3
   },
   "file_extension": ".py",
   "mimetype": "text/x-python",
   "name": "python",
   "nbconvert_exporter": "python",
   "pygments_lexer": "ipython3",
   "version": "3.12.1"
  }
 },
 "nbformat": 4,
 "nbformat_minor": 2
}
